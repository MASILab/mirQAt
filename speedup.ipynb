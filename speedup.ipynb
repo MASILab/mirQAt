{
 "cells": [
  {
   "cell_type": "code",
   "execution_count": 47,
   "metadata": {},
   "outputs": [],
   "source": [
    "from pathlib import Path\n",
    "import multiprocessing as mp\n",
    "import itertools\n",
    "import pydicom\n",
    "import pandas as pd\n",
    "\n",
    "num_workers = mp.cpu_count() - 1"
   ]
  },
  {
   "cell_type": "code",
   "execution_count": 14,
   "metadata": {},
   "outputs": [],
   "source": [
    "p = Path(\"/nfs/masi/khanms/massion/test\")\n",
    "\n",
    "dcm_list = list(p.glob(\"**/*.dcm\"))"
   ]
  },
  {
   "cell_type": "code",
   "execution_count": 15,
   "metadata": {},
   "outputs": [
    {
     "data": {
      "text/plain": [
       "PosixPath('/nfs/masi/khanms/massion/test/10291207324/54922574/402/1168.dcm')"
      ]
     },
     "execution_count": 15,
     "metadata": {},
     "output_type": "execute_result"
    }
   ],
   "source": [
    "dcm_list[0]"
   ]
  },
  {
   "cell_type": "markdown",
   "metadata": {},
   "source": [
    "# Simple example"
   ]
  },
  {
   "cell_type": "code",
   "execution_count": 16,
   "metadata": {},
   "outputs": [],
   "source": [
    "test = [('sami', 'blue', 'a', 3), ('sami', 'blue', 'a', 50), ('bob', 'blue', 'a', 10), ('sami', 'green', 'a', 1)]"
   ]
  },
  {
   "cell_type": "code",
   "execution_count": 17,
   "metadata": {},
   "outputs": [],
   "source": [
    "key, mx, mn, ct = [], [], [], []\n",
    "def inst_info(l):\n",
    "    key = [k for k,v in itertools.groupby(l, key=lambda x:(x[0], x[1], x[2]))]\n",
    "    mx = [max(v)[-1] for k,v in itertools.groupby(l, key=lambda x:(x[0], x[1], x[2]))]\n",
    "    mn = [min(v)[-1] for k,v in itertools.groupby(l, key=lambda x:(x[0], x[1], x[2]))]\n",
    "    ct = [len(list(v)) for k,v in itertools.groupby(l, key=lambda x:(x[0], x[1], x[2]))]\n",
    "    return zip(key, mx, mn, ct)"
   ]
  },
  {
   "cell_type": "code",
   "execution_count": 22,
   "metadata": {},
   "outputs": [
    {
     "data": {
      "text/plain": [
       "[(('sami', 'blue', 'a'), 50, 3, 2),\n",
       " (('bob', 'blue', 'a'), 10, 10, 1),\n",
       " (('sami', 'green', 'a'), 1, 1, 1)]"
      ]
     },
     "execution_count": 22,
     "metadata": {},
     "output_type": "execute_result"
    }
   ],
   "source": [
    "list( inst_info(test) )"
   ]
  },
  {
   "cell_type": "markdown",
   "metadata": {},
   "source": [
    "# Generate info for each instance"
   ]
  },
  {
   "cell_type": "code",
   "execution_count": 23,
   "metadata": {},
   "outputs": [],
   "source": [
    "def dcm_instance(dcm_file):\n",
    "    '''\n",
    "    For each dcm file -> (Subject, Session, Instance, InstanceNumber)\n",
    "    '''\n",
    "    ds = pydicom.dcmread(str(dcm_file))\n",
    "    return( Path(dcm_file).parts[-4], Path(dcm_file).parts[-3], Path(dcm_file).parts[-2], int(ds[0x20, 0x13].value))"
   ]
  },
  {
   "cell_type": "code",
   "execution_count": 27,
   "metadata": {},
   "outputs": [
    {
     "name": "stdout",
     "output_type": "stream",
     "text": [
      "CPU times: user 21.5 s, sys: 3.27 s, total: 24.8 s\n",
      "Wall time: 35.7 s\n"
     ]
    }
   ],
   "source": [
    "%%time\n",
    "\n",
    "res = list( map(dcm_instance, dcm_list) )"
   ]
  },
  {
   "cell_type": "code",
   "execution_count": 28,
   "metadata": {},
   "outputs": [
    {
     "name": "stdout",
     "output_type": "stream",
     "text": [
      "CPU times: user 67.8 ms, sys: 59.6 ms, total: 127 ms\n",
      "Wall time: 4.19 s\n"
     ]
    }
   ],
   "source": [
    "%%time\n",
    "\n",
    "pool = mp.Pool(processes=num_workers)\n",
    "results = pool.map(dcm_instance, dcm_list)"
   ]
  },
  {
   "cell_type": "code",
   "execution_count": 29,
   "metadata": {},
   "outputs": [],
   "source": [
    "assert res == results #proof we generate the same output"
   ]
  },
  {
   "cell_type": "markdown",
   "metadata": {},
   "source": [
    "Get the instance number, DICOM count, and diff for each."
   ]
  },
  {
   "cell_type": "code",
   "execution_count": 121,
   "metadata": {},
   "outputs": [],
   "source": [
    "def inst_info(l):\n",
    "    key, mx, mn, ct = [], [], [], []\n",
    "    key = [k for k,v in itertools.groupby(l, key=lambda x:(x[0], x[1], x[2]))]\n",
    "    mx = [max(v)[-1] for k,v in itertools.groupby(l, key=lambda x:(x[0], x[1], x[2]))]\n",
    "    mn = [min(v)[-1] for k,v in itertools.groupby(l, key=lambda x:(x[0], x[1], x[2]))]\n",
    "    ct = [len(list(v)) for k,v in itertools.groupby(l, key=lambda x:(x[0], x[1], x[2]))]\n",
    "    \n",
    "    df = pd.DataFrame( zip(key, ct, mx, mn) , columns=['key', 'dcmN', 'max_instN', 'min_instN'])\n",
    "    df['subject'], df['session'], df['inst'] = zip(*df['key'])\n",
    "    df = df.assign(instanceN = df['max_instN'] - df['min_instN'] + 1,\n",
    "                   delta_dcmN_instN = df['max_instN'] - df['min_instN'] + 1 - df['dcmN'])\n",
    "    \n",
    "    return df[['subject', 'session', 'dcmN', 'instanceN', 'delta_dcmN_instN']]"
   ]
  },
  {
   "cell_type": "code",
   "execution_count": 123,
   "metadata": {},
   "outputs": [
    {
     "name": "stdout",
     "output_type": "stream",
     "text": [
      "19.7 ms ± 77.8 µs per loop (mean ± std. dev. of 7 runs, 10 loops each)\n"
     ]
    }
   ],
   "source": [
    "%%timeit\n",
    "\n",
    "inst_info(res)"
   ]
  },
  {
   "cell_type": "code",
   "execution_count": null,
   "metadata": {},
   "outputs": [],
   "source": []
  }
 ],
 "metadata": {
  "kernelspec": {
   "display_name": "mirQAt",
   "language": "python",
   "name": "mirqat"
  },
  "language_info": {
   "codemirror_mode": {
    "name": "ipython",
    "version": 3
   },
   "file_extension": ".py",
   "mimetype": "text/x-python",
   "name": "python",
   "nbconvert_exporter": "python",
   "pygments_lexer": "ipython3",
   "version": "3.8.3"
  }
 },
 "nbformat": 4,
 "nbformat_minor": 4
}
