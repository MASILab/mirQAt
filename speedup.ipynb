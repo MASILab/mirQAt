{
 "cells": [
  {
   "cell_type": "code",
   "execution_count": 1,
   "metadata": {},
   "outputs": [],
   "source": [
    "from pathlib import Path\n",
    "import multiprocessing as mp\n",
    "import itertools\n",
    "import pydicom\n",
    "import pandas as pd\n",
    "import numpy as np\n",
    "\n",
    "num_workers = mp.cpu_count() - 1"
   ]
  },
  {
   "cell_type": "code",
   "execution_count": 2,
   "metadata": {},
   "outputs": [],
   "source": [
    "p = Path(\"/nfs/masi/khanms/massion/test\")\n",
    "\n",
    "dcm_list = list(p.glob(\"**/*.dcm\"))"
   ]
  },
  {
   "cell_type": "code",
   "execution_count": 3,
   "metadata": {},
   "outputs": [
    {
     "data": {
      "text/plain": [
       "PosixPath('/nfs/masi/khanms/massion/test/10291207324/54922574/402/1168.dcm')"
      ]
     },
     "execution_count": 3,
     "metadata": {},
     "output_type": "execute_result"
    }
   ],
   "source": [
    "dcm_list[0]"
   ]
  },
  {
   "cell_type": "markdown",
   "metadata": {},
   "source": [
    "# Simple example"
   ]
  },
  {
   "cell_type": "code",
   "execution_count": 82,
   "metadata": {},
   "outputs": [],
   "source": [
    "test = [('sami', 'blue', 'a', 3), ('sami', 'blue', 'a', 50), ('bob', 'blue', 'a', 10), ('sami', 'green', 'a', 1)]"
   ]
  },
  {
   "cell_type": "code",
   "execution_count": 17,
   "metadata": {},
   "outputs": [],
   "source": [
    "key, mx, mn, ct = [], [], [], []\n",
    "def inst_info(l):\n",
    "    key = [k for k,v in itertools.groupby(l, key=lambda x:(x[0], x[1], x[2]))]\n",
    "    mx = [max(v)[-1] for k,v in itertools.groupby(l, key=lambda x:(x[0], x[1], x[2]))]\n",
    "    mn = [min(v)[-1] for k,v in itertools.groupby(l, key=lambda x:(x[0], x[1], x[2]))]\n",
    "    ct = [len(list(v)) for k,v in itertools.groupby(l, key=lambda x:(x[0], x[1], x[2]))]\n",
    "    return zip(key, mx, mn, ct)"
   ]
  },
  {
   "cell_type": "code",
   "execution_count": 22,
   "metadata": {},
   "outputs": [
    {
     "data": {
      "text/plain": [
       "[(('sami', 'blue', 'a'), 50, 3, 2),\n",
       " (('bob', 'blue', 'a'), 10, 10, 1),\n",
       " (('sami', 'green', 'a'), 1, 1, 1)]"
      ]
     },
     "execution_count": 22,
     "metadata": {},
     "output_type": "execute_result"
    }
   ],
   "source": [
    "list( inst_info(test) )"
   ]
  },
  {
   "cell_type": "code",
   "execution_count": 17,
   "metadata": {},
   "outputs": [
    {
     "data": {
      "text/plain": [
       "3"
      ]
     },
     "execution_count": 17,
     "metadata": {},
     "output_type": "execute_result"
    }
   ],
   "source": [
    "max([1, 3, np.nan])"
   ]
  },
  {
   "cell_type": "markdown",
   "metadata": {},
   "source": [
    "# Generate info for each instance"
   ]
  },
  {
   "cell_type": "code",
   "execution_count": 18,
   "metadata": {},
   "outputs": [],
   "source": [
    "def dcm_instance(dcm_file):\n",
    "    '''\n",
    "    For each dcm file -> (Subject, Session, Instance, InstanceNumber)\n",
    "    '''\n",
    "    ds = pydicom.dcmread(str(dcm_file))\n",
    "    try:\n",
    "        return( Path(dcm_file).parts[-4], Path(dcm_file).parts[-3], Path(dcm_file).parts[-2], int(ds[0x20, 0x13].value))\n",
    "    except:\n",
    "        return( Path(dcm_file).parts[-4], Path(dcm_file).parts[-3], Path(dcm_file).parts[-2], np.nan )"
   ]
  },
  {
   "cell_type": "code",
   "execution_count": 19,
   "metadata": {},
   "outputs": [
    {
     "name": "stdout",
     "output_type": "stream",
     "text": [
      "CPU times: user 22.3 s, sys: 3.03 s, total: 25.3 s\n",
      "Wall time: 32.6 s\n"
     ]
    }
   ],
   "source": [
    "%%time\n",
    "\n",
    "res = list( map(dcm_instance, dcm_list) )"
   ]
  },
  {
   "cell_type": "code",
   "execution_count": 20,
   "metadata": {},
   "outputs": [
    {
     "name": "stdout",
     "output_type": "stream",
     "text": [
      "CPU times: user 43.8 ms, sys: 58.4 ms, total: 102 ms\n",
      "Wall time: 4.22 s\n"
     ]
    }
   ],
   "source": [
    "%%time\n",
    "\n",
    "pool = mp.Pool(processes=num_workers)\n",
    "results = pool.map(dcm_instance, dcm_list)"
   ]
  },
  {
   "cell_type": "code",
   "execution_count": 21,
   "metadata": {},
   "outputs": [],
   "source": [
    "assert res == results #proof we generate the same output"
   ]
  },
  {
   "cell_type": "markdown",
   "metadata": {},
   "source": [
    "Get the instance number, DICOM count, and diff for each."
   ]
  },
  {
   "cell_type": "code",
   "execution_count": 22,
   "metadata": {},
   "outputs": [],
   "source": [
    "def inst_info(l):\n",
    "    key, mx, mn, ct = [], [], [], []\n",
    "    key = [k for k,v in itertools.groupby(l, key=lambda x:(x[0], x[1], x[2]))]\n",
    "    mx = [max(v)[-1] for k,v in itertools.groupby(l, key=lambda x:(x[0], x[1], x[2]))]\n",
    "    mn = [min(v)[-1] for k,v in itertools.groupby(l, key=lambda x:(x[0], x[1], x[2]))]\n",
    "    ct = [len(list(v)) for k,v in itertools.groupby(l, key=lambda x:(x[0], x[1], x[2]))]\n",
    "    \n",
    "    df = pd.DataFrame( zip(key, ct, mx, mn) , columns=['key', 'dcmN', 'max_instN', 'min_instN'])\n",
    "    df['subject'], df['session'], df['inst'] = zip(*df['key'])\n",
    "    df = df.assign(instanceN = df['max_instN'] - df['min_instN'] + 1,\n",
    "                   delta_dcmN_instN = df['max_instN'] - df['min_instN'] + 1 - df['dcmN'])\n",
    "    \n",
    "    return df[['subject', 'session', 'dcmN', 'instanceN', 'delta_dcmN_instN']]"
   ]
  },
  {
   "cell_type": "code",
   "execution_count": 23,
   "metadata": {},
   "outputs": [
    {
     "name": "stdout",
     "output_type": "stream",
     "text": [
      "19.5 ms ± 122 µs per loop (mean ± std. dev. of 7 runs, 100 loops each)\n"
     ]
    }
   ],
   "source": [
    "%%timeit\n",
    "\n",
    "inst_info(res)"
   ]
  },
  {
   "cell_type": "markdown",
   "metadata": {},
   "source": [
    "# Putting it together\n",
    "\n",
    "> This is the code to do instance check!"
   ]
  },
  {
   "cell_type": "code",
   "execution_count": 60,
   "metadata": {},
   "outputs": [],
   "source": [
    "def dcm_instance(dcm_file):\n",
    "    '''\n",
    "    For each dcm file -> (Subject, Session, Instance, InstanceNumber)\n",
    "    '''\n",
    "    ds = pydicom.dcmread(str(dcm_file))\n",
    "    try:\n",
    "        return( Path(dcm_file).parts[-4], Path(dcm_file).parts[-3], Path(dcm_file).parts[-2], int(ds[0x20, 0x13].value))\n",
    "    except:\n",
    "        return( Path(dcm_file).parts[-4], Path(dcm_file).parts[-3], Path(dcm_file).parts[-2], np.nan )\n",
    "\n",
    "\n",
    "def instance_check(dcm_root_folder):\n",
    "    # get a list of all of the DICOM files in the root folder\n",
    "    dcm_list = list(Path(dcm_root_folder).glob(\"**/*.dcm\"))\n",
    "    # run `dcm_instance` on each DICOM file in the list (parallelized)\n",
    "    pool = mp.Pool(processes=num_workers)\n",
    "    l = pool.map(dcm_instance, dcm_list)\n",
    "    # take output of this info and create a df\n",
    "    key, mx, mn, ct = [], [], [], []\n",
    "    # groupby subject_id, session and instance\n",
    "    key = [k for k,v in itertools.groupby(l, key=lambda x:(x[0], x[1], x[2]))]\n",
    "    # get max, min instance num for each subj, session, instance group\n",
    "    mx = [max(v)[-1] for k,v in itertools.groupby(l, key=lambda x:(x[0], x[1], x[2]))]\n",
    "    mn = [min(v)[-1] for k,v in itertools.groupby(l, key=lambda x:(x[0], x[1], x[2]))]\n",
    "    # get the num of dcm image files for each instance\n",
    "    ct = [len(list(v)) for k,v in itertools.groupby(l, key=lambda x:(x[0], x[1], x[2]))]\n",
    "    \n",
    "    #generate dataframe\n",
    "    df = pd.DataFrame( zip(key, ct, mx, mn) , columns=['key', 'dcmN', 'max_instN', 'min_instN'])\n",
    "    df['subject'], df['session'], df['inst'] = zip(*df['key'])\n",
    "    df = df.assign(instanceN = df['max_instN'] - df['min_instN'] + 1,\n",
    "                   delta_dcmN_instN = df['max_instN'] - df['min_instN'] + 1 - df['dcmN'])\n",
    "    df = df.groupby(['subject', 'session']).apply(lambda x: x.loc[x.dcmN.idxmax(),['dcmN','instanceN', 'delta_dcmN_instN']]).reset_index()\n",
    "    # indicate duplicate if instanceN is 0.5 of dcmN; `np.where` is optimized so negligible time to run\n",
    "    df['dupe_inst'] = np.where(df.instanceN / df.dcmN == 0.5, 1, 0)\n",
    "    \n",
    "    return df"
   ]
  },
  {
   "cell_type": "code",
   "execution_count": 61,
   "metadata": {},
   "outputs": [],
   "source": [
    "test = instance_check(\"/nfs/masi/khanms/massion/test\")"
   ]
  },
  {
   "cell_type": "code",
   "execution_count": 62,
   "metadata": {},
   "outputs": [
    {
     "data": {
      "text/html": [
       "<div>\n",
       "<style scoped>\n",
       "    .dataframe tbody tr th:only-of-type {\n",
       "        vertical-align: middle;\n",
       "    }\n",
       "\n",
       "    .dataframe tbody tr th {\n",
       "        vertical-align: top;\n",
       "    }\n",
       "\n",
       "    .dataframe thead th {\n",
       "        text-align: right;\n",
       "    }\n",
       "</style>\n",
       "<table border=\"1\" class=\"dataframe\">\n",
       "  <thead>\n",
       "    <tr style=\"text-align: right;\">\n",
       "      <th></th>\n",
       "      <th>subject</th>\n",
       "      <th>session</th>\n",
       "      <th>dcmN</th>\n",
       "      <th>instanceN</th>\n",
       "      <th>delta_dcmN_instN</th>\n",
       "      <th>dupe_inst</th>\n",
       "    </tr>\n",
       "  </thead>\n",
       "  <tbody>\n",
       "    <tr>\n",
       "      <th>0</th>\n",
       "      <td>10291207324</td>\n",
       "      <td>54741763</td>\n",
       "      <td>1408</td>\n",
       "      <td>704</td>\n",
       "      <td>-704</td>\n",
       "      <td>1</td>\n",
       "    </tr>\n",
       "    <tr>\n",
       "      <th>1</th>\n",
       "      <td>10291207324</td>\n",
       "      <td>54922574</td>\n",
       "      <td>554</td>\n",
       "      <td>554</td>\n",
       "      <td>0</td>\n",
       "      <td>0</td>\n",
       "    </tr>\n",
       "    <tr>\n",
       "      <th>2</th>\n",
       "      <td>10291207324</td>\n",
       "      <td>56876118</td>\n",
       "      <td>391</td>\n",
       "      <td>391</td>\n",
       "      <td>0</td>\n",
       "      <td>0</td>\n",
       "    </tr>\n",
       "  </tbody>\n",
       "</table>\n",
       "</div>"
      ],
      "text/plain": [
       "       subject   session  dcmN  instanceN  delta_dcmN_instN  dupe_inst\n",
       "0  10291207324  54741763  1408        704              -704          1\n",
       "1  10291207324  54922574   554        554                 0          0\n",
       "2  10291207324  56876118   391        391                 0          0"
      ]
     },
     "execution_count": 62,
     "metadata": {},
     "output_type": "execute_result"
    }
   ],
   "source": [
    "test"
   ]
  },
  {
   "cell_type": "code",
   "execution_count": 63,
   "metadata": {},
   "outputs": [
    {
     "name": "stdout",
     "output_type": "stream",
     "text": [
      "4.4 s ± 15 ms per loop (mean ± std. dev. of 7 runs, 1 loop each)\n"
     ]
    }
   ],
   "source": [
    "%%timeit\n",
    "\n",
    "instance_check(\"/nfs/masi/khanms/massion/test\")"
   ]
  },
  {
   "cell_type": "markdown",
   "metadata": {},
   "source": [
    "# Original Implementation"
   ]
  },
  {
   "cell_type": "code",
   "execution_count": 35,
   "metadata": {},
   "outputs": [],
   "source": [
    "def dcm_instance(dcm_root):\n",
    "    \"\"\"\n",
    "    Check instance numbers in a DICOM folder\n",
    "    Does the instance number match the number of DICOMs in each session?\n",
    "    Returns (<num1>, <num2>, <num3>)\n",
    "    Valid: if <num1> == <num2> & <num3> == 0 (<num3> is the diff b/w num1 and num2)\n",
    "    Invalid: if <num1> != <num2>, i.e. <num3> != 0\n",
    "    \"\"\"\n",
    "    if Path(dcm_root).exists() == False:\n",
    "        print(\"This folder does not exist. Please input an existing folder path.\")\n",
    "    dcm_list = list(Path(dcm_root).glob(\"**/*.dcm\"))\n",
    "    # dcm_list = glob(os.path.join(dcm_root, \"*.dcm\"))\n",
    "    if len(dcm_list) == 0:\n",
    "        print(\n",
    "            \"We were unable to find DICOM files in this root directory. Please review path and try again.\"\n",
    "        )\n",
    "    #slicePos = []\n",
    "    instanceN = []\n",
    "    for i in range(len(dcm_list)):\n",
    "        ds = pydicom.dcmread(str(dcm_list[i]))\n",
    "        # slicePos.append(ds.SliceLocation)\n",
    "        instanceN.append(ds[0x20, 0x13].value)\n",
    "    print(\"max and min of instanceN \", max(instanceN), min(instanceN))\n",
    "    return (\n",
    "        len(instanceN),\n",
    "        max(instanceN) - min(instanceN) + 1,\n",
    "        max(instanceN) - min(instanceN) + 1 - len(instanceN),\n",
    "    )\n",
    "\n",
    "\n",
    "def instanceN_fold(fold_root, save_csv_path=\"instance_num_check.csv\"):  # instanceN_fold\n",
    "    \"\"\"\n",
    "    Arguments:\n",
    "        - Root folder\n",
    "        - Location and name to store CSV output\n",
    "    Output csv file:\n",
    "        - instance number using header info\n",
    "        - number of DICOM images for a particular session\n",
    "        - difference b/w # of DICOM images and Instance number\n",
    "            - Valid values are those <= 0 (?)\n",
    "    \"\"\"\n",
    "    subj_list = [x.stem for x in Path(fold_root).iterdir() if x.is_dir()]\n",
    "    sess, single_folder, instanceN, dicomN, diff = [], [], [], [], []\n",
    "    for i in range(0, len(subj_list)):\n",
    "        # if i > 30: break\n",
    "        subj_path = Path(fold_root) / subj_list[i]\n",
    "        sess_list = [x.stem for x in Path(subj_path).iterdir() if x.is_dir()]\n",
    "        for j in range(len(sess_list)):\n",
    "            sess.append(sess_list[j])\n",
    "            # print(\"(i, j): \", i, j, sess_list[j])\n",
    "            sess_path = subj_path / sess_list[j]\n",
    "            instance_list = [x.stem for x in Path(sess_path).iterdir() if x.is_dir()]\n",
    "            if len(instance_list) == 1:\n",
    "                single_folder.append(1)\n",
    "            else:\n",
    "                single_folder.append(0)\n",
    "            size_list = []\n",
    "            for k in range(len(instance_list)):\n",
    "                p = sess_path / instance_list[k]\n",
    "                size_list.append(len(list(p.rglob(\"*.dcm\"))))\n",
    "                # print(sess_path / instance_list[k])\n",
    "                # if (sess_path / instance_list[k] / \"secondary\").exists() and not (sess_path / instance_list[k] / \"DICOM\").exists():    # Unnecessary if not dealing with DICOM subdir\n",
    "                #    (sess_path / instance_list[k] / \"secondary\").rename(sess_path / instance_list[k] / \"DICOM\")\n",
    "                # size = len(os.listdir(sess_path + \"/\" + instance_list[k] + \"/DICOM\")) # There is no DICOM subdirectory, so this throws an error\n",
    "                # size = len([x for x in  if x.is_dir()])\n",
    "                # size_list.append(size)\n",
    "            max_index = size_list.index(max(size_list))\n",
    "            # break\n",
    "\n",
    "            # Renames the dir with the greatest # of dcm image files\n",
    "            (sess_path / instance_list[max_index]).rename(sess_path / \"new_max\")\n",
    "            try:\n",
    "                # inst_n, dicom_n, same = dcm_instance(sess_path + \"/new_max/DICOM\") # Again, there is no DICOM subdirectory, so this throws an error\n",
    "                inst_n, dicom_n, same = dcm_instance(sess_path / \"new_max\")\n",
    "                instanceN.append(inst_n)\n",
    "                dicomN.append(dicom_n)\n",
    "                diff.append(same)\n",
    "            except:\n",
    "                instanceN.append(\"\")\n",
    "                dicomN.append(\"\")\n",
    "                diff.append(\"\")\n",
    "                print(\"dicom error\")\n",
    "    data = pd.DataFrame()\n",
    "    data[\"sess\"] = sess\n",
    "    data[\"single_folder\"] = single_folder\n",
    "    data[\"instanceN\"] = instanceN\n",
    "    data[\"dicomN\"] = dicomN\n",
    "    data[\"dicomN-instanceN\"] = diff\n",
    "    \n",
    "    return data"
   ]
  },
  {
   "cell_type": "code",
   "execution_count": 39,
   "metadata": {},
   "outputs": [
    {
     "name": "stdout",
     "output_type": "stream",
     "text": [
      "max and min of instanceN  554 1\n",
      "max and min of instanceN  391 1\n",
      "max and min of instanceN  704 1\n",
      "max and min of instanceN  554 1\n",
      "max and min of instanceN  391 1\n",
      "max and min of instanceN  704 1\n",
      "max and min of instanceN  554 1\n",
      "max and min of instanceN  391 1\n",
      "max and min of instanceN  704 1\n",
      "max and min of instanceN  554 1\n",
      "max and min of instanceN  391 1\n",
      "max and min of instanceN  704 1\n",
      "max and min of instanceN  554 1\n",
      "max and min of instanceN  391 1\n",
      "max and min of instanceN  704 1\n",
      "max and min of instanceN  554 1\n",
      "max and min of instanceN  391 1\n",
      "max and min of instanceN  704 1\n",
      "max and min of instanceN  554 1\n",
      "max and min of instanceN  391 1\n",
      "max and min of instanceN  704 1\n",
      "max and min of instanceN  554 1\n",
      "max and min of instanceN  391 1\n",
      "max and min of instanceN  704 1\n",
      "7.81 s ± 13.9 ms per loop (mean ± std. dev. of 7 runs, 1 loop each)\n"
     ]
    }
   ],
   "source": [
    "%%timeit\n",
    "\n",
    "instanceN_fold(\"/nfs/masi/khanms/massion/test\")"
   ]
  },
  {
   "cell_type": "markdown",
   "metadata": {},
   "source": [
    "# Slice Distance Check"
   ]
  },
  {
   "cell_type": "code",
   "execution_count": 4,
   "metadata": {},
   "outputs": [],
   "source": [
    "def dcm_slicedist(dcm_file):\n",
    "    '''\n",
    "    For each dcm file -> (Subject, Session, Instance, SliceLocation)\n",
    "    '''\n",
    "    ds = pydicom.dcmread(str(dcm_file))\n",
    "    try:\n",
    "        return( Path(dcm_file).parts[-4], Path(dcm_file).parts[-3], Path(dcm_file).parts[-2], float(ds.SliceLocation) )\n",
    "    except:\n",
    "        return( Path(dcm_file).parts[-4], Path(dcm_file).parts[-3], Path(dcm_file).parts[-2], np.nan )"
   ]
  },
  {
   "cell_type": "code",
   "execution_count": 5,
   "metadata": {},
   "outputs": [
    {
     "data": {
      "text/plain": [
       "('10291207324', '54922574', '402', 138.63)"
      ]
     },
     "execution_count": 5,
     "metadata": {},
     "output_type": "execute_result"
    }
   ],
   "source": [
    "dcm_slicedist( dcm_list[0] )"
   ]
  },
  {
   "cell_type": "code",
   "execution_count": 6,
   "metadata": {},
   "outputs": [
    {
     "data": {
      "text/plain": [
       "[('10291207324', '54922574', '402', 138.63),\n",
       " ('10291207324', '54922574', '402', 54.63),\n",
       " ('10291207324', '54922574', '402', 12.63),\n",
       " ('10291207324', '54922574', '402', 75.63),\n",
       " ('10291207324', '54922574', '402', 51.63),\n",
       " ('10291207324', '54922574', '402', 9.63)]"
      ]
     },
     "execution_count": 6,
     "metadata": {},
     "output_type": "execute_result"
    }
   ],
   "source": [
    "list( map(dcm_slicedist, dcm_list[0:6] ) )"
   ]
  },
  {
   "cell_type": "code",
   "execution_count": 288,
   "metadata": {},
   "outputs": [],
   "source": [
    "z = [1, 2, 3, 4, 10]\n",
    "#z = [1,3,50]"
   ]
  },
  {
   "cell_type": "code",
   "execution_count": 289,
   "metadata": {},
   "outputs": [
    {
     "data": {
      "text/plain": [
       "[0, 0, 5]"
      ]
     },
     "execution_count": 289,
     "metadata": {},
     "output_type": "execute_result"
    }
   ],
   "source": [
    "import operator\n",
    "\n",
    "z_sort = sorted(z, reverse=True)\n",
    "tmp = list(map(operator.sub, z[1:], z[:-1]))\n",
    "list(map(operator.sub, tmp[1:], tmp[:-1]))"
   ]
  },
  {
   "cell_type": "code",
   "execution_count": 290,
   "metadata": {},
   "outputs": [
    {
     "data": {
      "text/plain": [
       "[1, 1, 1, 6]"
      ]
     },
     "execution_count": 290,
     "metadata": {},
     "output_type": "execute_result"
    }
   ],
   "source": [
    "tmp"
   ]
  },
  {
   "cell_type": "code",
   "execution_count": 337,
   "metadata": {},
   "outputs": [],
   "source": [
    "def slice_loc_delta(ds_list):\n",
    "    ds_sort = sorted(ds_list, reverse=True)\n",
    "    res = 1\n",
    "    for i in range(0, len(ds_sort) - 2):\n",
    "        #print((ds_sort[i] - ds_sort[i + 1]), (ds_sort[i + 1] - ds_sort[i + 2]))\n",
    "        #print((ds_sort[i] - ds_sort[i + 1]) - (ds_sort[i + 1] - ds_sort[i + 2]))\n",
    "        #print((ds_sort[0] - ds_sort[1]))\n",
    "        if not abs(\n",
    "            (ds_sort[i] - ds_sort[i + 1]) - (ds_sort[i + 1] - ds_sort[i + 2])\n",
    "        ) < (ds_sort[0] - ds_sort[1]):\n",
    "            res = 0\n",
    "    return res"
   ]
  },
  {
   "cell_type": "code",
   "execution_count": 338,
   "metadata": {},
   "outputs": [
    {
     "data": {
      "text/plain": [
       "1"
      ]
     },
     "execution_count": 338,
     "metadata": {},
     "output_type": "execute_result"
    }
   ],
   "source": [
    "slice_loc_delta(sorted(z, reverse=True))"
   ]
  },
  {
   "cell_type": "code",
   "execution_count": 331,
   "metadata": {},
   "outputs": [
    {
     "data": {
      "text/plain": [
       "[2, 2]"
      ]
     },
     "execution_count": 331,
     "metadata": {},
     "output_type": "execute_result"
    }
   ],
   "source": [
    "slice_loc_delta(sorted([9,10,10], reverse=True))"
   ]
  },
  {
   "cell_type": "code",
   "execution_count": 332,
   "metadata": {},
   "outputs": [
    {
     "data": {
      "text/plain": [
       "array([0, 0, 0])"
      ]
     },
     "execution_count": 332,
     "metadata": {},
     "output_type": "execute_result"
    }
   ],
   "source": [
    "np.where( slice_loc_delta(sorted(z, reverse=True)), 0, 1 )"
   ]
  },
  {
   "cell_type": "code",
   "execution_count": 294,
   "metadata": {},
   "outputs": [
    {
     "data": {
      "text/plain": [
       "6"
      ]
     },
     "execution_count": 294,
     "metadata": {},
     "output_type": "execute_result"
    }
   ],
   "source": [
    "z_sort[0] - z_sort[1]"
   ]
  },
  {
   "cell_type": "code",
   "execution_count": 300,
   "metadata": {},
   "outputs": [],
   "source": [
    "# inspired by https://www.geeksforgeeks.org/python-generate-successive-element-difference-list/\n",
    "\n",
    "def slice_analyzer(slice_list):\n",
    "    l_sort = sorted(slice_list, reverse=True)\n",
    "    initial_delta = l_sort[0] - l_sort[1]\n",
    "    tmp = list(map(operator.sub, l_sort[1:], l_sort[:-1]))\n",
    "    eval_list = list(map(operator.sub, tmp[1:], tmp[:-1]))\n",
    "    #boolean to make sure all deltas are less than delta b/w 0th and 1st elements\n",
    "    check_bool = all(x < initial_delta for x in eval_list)\n",
    "    return initial_delta, eval_list, check_bool"
   ]
  },
  {
   "cell_type": "code",
   "execution_count": 301,
   "metadata": {},
   "outputs": [
    {
     "data": {
      "text/plain": [
       "(6, [5, 0, 0], True)"
      ]
     },
     "execution_count": 301,
     "metadata": {},
     "output_type": "execute_result"
    }
   ],
   "source": [
    "slice_analyzer(z)"
   ]
  },
  {
   "cell_type": "code",
   "execution_count": 76,
   "metadata": {},
   "outputs": [
    {
     "data": {
      "text/plain": [
       "array(1)"
      ]
     },
     "execution_count": 76,
     "metadata": {},
     "output_type": "execute_result"
    }
   ],
   "source": [
    "np.where(all(x < 6 for x in [5, 0, 0]), 1, 0)"
   ]
  },
  {
   "cell_type": "code",
   "execution_count": 81,
   "metadata": {},
   "outputs": [
    {
     "name": "stdout",
     "output_type": "stream",
     "text": [
      "A bear is a animal.\n",
      "A duck is a animal.\n",
      " \n",
      "A cactus is a plant.\n",
      " \n",
      "A speed boat is a vehicle.\n",
      "A school bus is a vehicle.\n",
      " \n"
     ]
    }
   ],
   "source": [
    "from itertools import groupby\n",
    "\n",
    "things = [(\"animal\", \"bear\"), (\"animal\", \"duck\"), (\"plant\", \"cactus\"), (\"vehicle\", \"speed boat\"), (\"vehicle\", \"school bus\")]\n",
    "\n",
    "for key, group in groupby(things, lambda x: x[0]):\n",
    "    for thing in group:\n",
    "        print(\"A %s is a %s.\" % (thing[1], key))\n",
    "    print(\" \")"
   ]
  },
  {
   "cell_type": "code",
   "execution_count": 83,
   "metadata": {},
   "outputs": [
    {
     "data": {
      "text/plain": [
       "[('sami', 'blue', 'a', 3),\n",
       " ('sami', 'blue', 'a', 50),\n",
       " ('bob', 'blue', 'a', 10),\n",
       " ('sami', 'green', 'a', 1)]"
      ]
     },
     "execution_count": 83,
     "metadata": {},
     "output_type": "execute_result"
    }
   ],
   "source": [
    "test"
   ]
  },
  {
   "cell_type": "code",
   "execution_count": null,
   "metadata": {},
   "outputs": [],
   "source": [
    "key, mx, mn, ct = [], [], [], []\n",
    "def inst_info(l):\n",
    "    key = [k for k,v in itertools.groupby(l, key=lambda x:(x[0], x[1], x[2]))]\n",
    "    mx = [max(v)[-1] for k,v in itertools.groupby(l, key=lambda x:(x[0], x[1], x[2]))]\n",
    "    mn = [min(v)[-1] for k,v in itertools.groupby(l, key=lambda x:(x[0], x[1], x[2]))]\n",
    "    ct = [len(list(v)) for k,v in itertools.groupby(l, key=lambda x:(x[0], x[1], x[2]))]\n",
    "    return zip(key, mx, mn, ct)"
   ]
  },
  {
   "cell_type": "code",
   "execution_count": 84,
   "metadata": {},
   "outputs": [
    {
     "ename": "TypeError",
     "evalue": "unsupported operand type(s) for -: 'tuple' and 'tuple'",
     "output_type": "error",
     "traceback": [
      "\u001b[0;31m---------------------------------------------------------------------------\u001b[0m",
      "\u001b[0;31mTypeError\u001b[0m                                 Traceback (most recent call last)",
      "\u001b[0;32m<ipython-input-84-34079401ceaa>\u001b[0m in \u001b[0;36m<module>\u001b[0;34m\u001b[0m\n\u001b[0;32m----> 1\u001b[0;31m \u001b[0;34m[\u001b[0m\u001b[0mslice_analyzer\u001b[0m\u001b[0;34m(\u001b[0m\u001b[0mlist\u001b[0m\u001b[0;34m(\u001b[0m\u001b[0mg\u001b[0m\u001b[0;34m)\u001b[0m\u001b[0;34m)\u001b[0m \u001b[0;32mfor\u001b[0m \u001b[0m_\u001b[0m\u001b[0;34m,\u001b[0m \u001b[0mg\u001b[0m \u001b[0;32min\u001b[0m \u001b[0mitertools\u001b[0m\u001b[0;34m.\u001b[0m\u001b[0mgroupby\u001b[0m\u001b[0;34m(\u001b[0m\u001b[0mtest\u001b[0m\u001b[0;34m,\u001b[0m \u001b[0mkey\u001b[0m\u001b[0;34m=\u001b[0m\u001b[0;32mlambda\u001b[0m \u001b[0mx\u001b[0m\u001b[0;34m:\u001b[0m\u001b[0;34m(\u001b[0m\u001b[0mx\u001b[0m\u001b[0;34m[\u001b[0m\u001b[0;36m0\u001b[0m\u001b[0;34m]\u001b[0m\u001b[0;34m,\u001b[0m \u001b[0mx\u001b[0m\u001b[0;34m[\u001b[0m\u001b[0;36m1\u001b[0m\u001b[0;34m]\u001b[0m\u001b[0;34m,\u001b[0m \u001b[0mx\u001b[0m\u001b[0;34m[\u001b[0m\u001b[0;36m2\u001b[0m\u001b[0;34m]\u001b[0m\u001b[0;34m)\u001b[0m\u001b[0;34m)\u001b[0m\u001b[0;34m]\u001b[0m\u001b[0;34m\u001b[0m\u001b[0;34m\u001b[0m\u001b[0m\n\u001b[0m",
      "\u001b[0;32m<ipython-input-84-34079401ceaa>\u001b[0m in \u001b[0;36m<listcomp>\u001b[0;34m(.0)\u001b[0m\n\u001b[0;32m----> 1\u001b[0;31m \u001b[0;34m[\u001b[0m\u001b[0mslice_analyzer\u001b[0m\u001b[0;34m(\u001b[0m\u001b[0mlist\u001b[0m\u001b[0;34m(\u001b[0m\u001b[0mg\u001b[0m\u001b[0;34m)\u001b[0m\u001b[0;34m)\u001b[0m \u001b[0;32mfor\u001b[0m \u001b[0m_\u001b[0m\u001b[0;34m,\u001b[0m \u001b[0mg\u001b[0m \u001b[0;32min\u001b[0m \u001b[0mitertools\u001b[0m\u001b[0;34m.\u001b[0m\u001b[0mgroupby\u001b[0m\u001b[0;34m(\u001b[0m\u001b[0mtest\u001b[0m\u001b[0;34m,\u001b[0m \u001b[0mkey\u001b[0m\u001b[0;34m=\u001b[0m\u001b[0;32mlambda\u001b[0m \u001b[0mx\u001b[0m\u001b[0;34m:\u001b[0m\u001b[0;34m(\u001b[0m\u001b[0mx\u001b[0m\u001b[0;34m[\u001b[0m\u001b[0;36m0\u001b[0m\u001b[0;34m]\u001b[0m\u001b[0;34m,\u001b[0m \u001b[0mx\u001b[0m\u001b[0;34m[\u001b[0m\u001b[0;36m1\u001b[0m\u001b[0;34m]\u001b[0m\u001b[0;34m,\u001b[0m \u001b[0mx\u001b[0m\u001b[0;34m[\u001b[0m\u001b[0;36m2\u001b[0m\u001b[0;34m]\u001b[0m\u001b[0;34m)\u001b[0m\u001b[0;34m)\u001b[0m\u001b[0;34m]\u001b[0m\u001b[0;34m\u001b[0m\u001b[0;34m\u001b[0m\u001b[0m\n\u001b[0m",
      "\u001b[0;32m<ipython-input-77-660bb5d5bcd2>\u001b[0m in \u001b[0;36mslice_analyzer\u001b[0;34m(slice_list)\u001b[0m\n\u001b[1;32m      3\u001b[0m \u001b[0;32mdef\u001b[0m \u001b[0mslice_analyzer\u001b[0m\u001b[0;34m(\u001b[0m\u001b[0mslice_list\u001b[0m\u001b[0;34m)\u001b[0m\u001b[0;34m:\u001b[0m\u001b[0;34m\u001b[0m\u001b[0;34m\u001b[0m\u001b[0m\n\u001b[1;32m      4\u001b[0m     \u001b[0ml_sort\u001b[0m \u001b[0;34m=\u001b[0m \u001b[0msorted\u001b[0m\u001b[0;34m(\u001b[0m\u001b[0mslice_list\u001b[0m\u001b[0;34m,\u001b[0m \u001b[0mreverse\u001b[0m\u001b[0;34m=\u001b[0m\u001b[0;32mTrue\u001b[0m\u001b[0;34m)\u001b[0m\u001b[0;34m\u001b[0m\u001b[0;34m\u001b[0m\u001b[0m\n\u001b[0;32m----> 5\u001b[0;31m     \u001b[0minitial_delta\u001b[0m \u001b[0;34m=\u001b[0m \u001b[0ml_sort\u001b[0m\u001b[0;34m[\u001b[0m\u001b[0;36m0\u001b[0m\u001b[0;34m]\u001b[0m \u001b[0;34m-\u001b[0m \u001b[0ml_sort\u001b[0m\u001b[0;34m[\u001b[0m\u001b[0;36m1\u001b[0m\u001b[0;34m]\u001b[0m\u001b[0;34m\u001b[0m\u001b[0;34m\u001b[0m\u001b[0m\n\u001b[0m\u001b[1;32m      6\u001b[0m     \u001b[0mtmp\u001b[0m \u001b[0;34m=\u001b[0m \u001b[0mlist\u001b[0m\u001b[0;34m(\u001b[0m\u001b[0mmap\u001b[0m\u001b[0;34m(\u001b[0m\u001b[0moperator\u001b[0m\u001b[0;34m.\u001b[0m\u001b[0msub\u001b[0m\u001b[0;34m,\u001b[0m \u001b[0ml_sort\u001b[0m\u001b[0;34m[\u001b[0m\u001b[0;36m1\u001b[0m\u001b[0;34m:\u001b[0m\u001b[0;34m]\u001b[0m\u001b[0;34m,\u001b[0m \u001b[0ml_sort\u001b[0m\u001b[0;34m[\u001b[0m\u001b[0;34m:\u001b[0m\u001b[0;34m-\u001b[0m\u001b[0;36m1\u001b[0m\u001b[0;34m]\u001b[0m\u001b[0;34m)\u001b[0m\u001b[0;34m)\u001b[0m\u001b[0;34m\u001b[0m\u001b[0;34m\u001b[0m\u001b[0m\n\u001b[1;32m      7\u001b[0m     \u001b[0meval_list\u001b[0m \u001b[0;34m=\u001b[0m \u001b[0mlist\u001b[0m\u001b[0;34m(\u001b[0m\u001b[0mmap\u001b[0m\u001b[0;34m(\u001b[0m\u001b[0moperator\u001b[0m\u001b[0;34m.\u001b[0m\u001b[0msub\u001b[0m\u001b[0;34m,\u001b[0m \u001b[0mtmp\u001b[0m\u001b[0;34m[\u001b[0m\u001b[0;36m1\u001b[0m\u001b[0;34m:\u001b[0m\u001b[0;34m]\u001b[0m\u001b[0;34m,\u001b[0m \u001b[0mtmp\u001b[0m\u001b[0;34m[\u001b[0m\u001b[0;34m:\u001b[0m\u001b[0;34m-\u001b[0m\u001b[0;36m1\u001b[0m\u001b[0;34m]\u001b[0m\u001b[0;34m)\u001b[0m\u001b[0;34m)\u001b[0m\u001b[0;34m\u001b[0m\u001b[0;34m\u001b[0m\u001b[0m\n",
      "\u001b[0;31mTypeError\u001b[0m: unsupported operand type(s) for -: 'tuple' and 'tuple'"
     ]
    }
   ],
   "source": [
    "[slice_analyzer(list(g)) for _, g in itertools.groupby(test, key=lambda x:(x[0], x[1], x[2]))]"
   ]
  },
  {
   "cell_type": "code",
   "execution_count": 137,
   "metadata": {},
   "outputs": [
    {
     "data": {
      "text/plain": [
       "[3, 50]"
      ]
     },
     "execution_count": 137,
     "metadata": {},
     "output_type": "execute_result"
    }
   ],
   "source": [
    "import operator\n",
    "\n",
    "tmp = [list(v) for k,v in itertools.groupby(test, key=lambda x:(x[0], x[1], x[2]))]\n",
    "[(i4) for i1, i2, i3, i4 in t]"
   ]
  },
  {
   "cell_type": "code",
   "execution_count": 214,
   "metadata": {},
   "outputs": [
    {
     "name": "stdout",
     "output_type": "stream",
     "text": [
      "[('bob', 'blue', 'a', 9), ('bob', 'blue', 'a', 10), ('bob', 'blue', 'a', 10)]\n",
      "[('sami', 'blue', 'a', 1), ('sami', 'blue', 'a', 3), ('sami', 'blue', 'a', 50)]\n"
     ]
    }
   ],
   "source": [
    "import itertools\n",
    "\n",
    "for key, group in itertools.groupby(sorted(test), key=lambda x:(x[0], x[1], x[2])):\n",
    "    print(list(group))"
   ]
  },
  {
   "cell_type": "code",
   "execution_count": 132,
   "metadata": {},
   "outputs": [
    {
     "ename": "ValueError",
     "evalue": "too many values to unpack (expected 1)",
     "output_type": "error",
     "traceback": [
      "\u001b[0;31m---------------------------------------------------------------------------\u001b[0m",
      "\u001b[0;31mValueError\u001b[0m                                Traceback (most recent call last)",
      "\u001b[0;32m<ipython-input-132-8645c5b9c4a0>\u001b[0m in \u001b[0;36m<module>\u001b[0;34m\u001b[0m\n\u001b[0;32m----> 1\u001b[0;31m \u001b[0;34m[\u001b[0m\u001b[0mx\u001b[0m\u001b[0;34m[\u001b[0m\u001b[0;36m0\u001b[0m\u001b[0;34m]\u001b[0m \u001b[0;32mfor\u001b[0m \u001b[0mx\u001b[0m\u001b[0;34m,\u001b[0m \u001b[0;32min\u001b[0m \u001b[0mtest\u001b[0m\u001b[0;34m]\u001b[0m\u001b[0;34m\u001b[0m\u001b[0;34m\u001b[0m\u001b[0m\n\u001b[0m",
      "\u001b[0;32m<ipython-input-132-8645c5b9c4a0>\u001b[0m in \u001b[0;36m<listcomp>\u001b[0;34m(.0)\u001b[0m\n\u001b[0;32m----> 1\u001b[0;31m \u001b[0;34m[\u001b[0m\u001b[0mx\u001b[0m\u001b[0;34m[\u001b[0m\u001b[0;36m0\u001b[0m\u001b[0;34m]\u001b[0m \u001b[0;32mfor\u001b[0m \u001b[0mx\u001b[0m\u001b[0;34m,\u001b[0m \u001b[0;32min\u001b[0m \u001b[0mtest\u001b[0m\u001b[0;34m]\u001b[0m\u001b[0;34m\u001b[0m\u001b[0;34m\u001b[0m\u001b[0m\n\u001b[0m",
      "\u001b[0;31mValueError\u001b[0m: too many values to unpack (expected 1)"
     ]
    }
   ],
   "source": [
    "[x[0] for x, in test]"
   ]
  },
  {
   "cell_type": "code",
   "execution_count": 130,
   "metadata": {},
   "outputs": [
    {
     "data": {
      "text/plain": [
       "[('server1', 80), ('server2', 443)]"
      ]
     },
     "execution_count": 130,
     "metadata": {},
     "output_type": "execute_result"
    }
   ],
   "source": [
    "servers = [('server1', 80 , 1, 2), ('server2', 443, 3, 4)]\n",
    "\n",
    "[(server, port) for server, port, *_ in servers]"
   ]
  },
  {
   "cell_type": "code",
   "execution_count": 143,
   "metadata": {},
   "outputs": [],
   "source": [
    "t = [('sami', 'blue', 'a', 3), ('sami', 'blue', 'a', 50)]\n",
    "t2 = [('bob', 'blue', 'a', 10)]"
   ]
  },
  {
   "cell_type": "code",
   "execution_count": 146,
   "metadata": {},
   "outputs": [
    {
     "name": "stdout",
     "output_type": "stream",
     "text": [
      "[3, 50]\n",
      "[10]\n"
     ]
    }
   ],
   "source": [
    "print( [(i4) for i1, i2, i3, i4 in t] )\n",
    "print( [(i4) for i1, i2, i3, i4 in t2] )"
   ]
  },
  {
   "cell_type": "code",
   "execution_count": 147,
   "metadata": {},
   "outputs": [],
   "source": [
    "def tuple_extractor(tuple_list):\n",
    "    l = [(i4) for i1, i2, i3, i4 in tuple_list]\n",
    "    return l"
   ]
  },
  {
   "cell_type": "code",
   "execution_count": 148,
   "metadata": {},
   "outputs": [
    {
     "data": {
      "text/plain": [
       "[[('sami', 'blue', 'a', 3), ('sami', 'blue', 'a', 50)],\n",
       " [('bob', 'blue', 'a', 10)],\n",
       " [('sami', 'green', 'a', 1)]]"
      ]
     },
     "execution_count": 148,
     "metadata": {},
     "output_type": "execute_result"
    }
   ],
   "source": [
    "tmp"
   ]
  },
  {
   "cell_type": "code",
   "execution_count": 150,
   "metadata": {},
   "outputs": [
    {
     "data": {
      "text/plain": [
       "[[3, 50], [10], [1]]"
      ]
     },
     "execution_count": 150,
     "metadata": {},
     "output_type": "execute_result"
    }
   ],
   "source": [
    "list( map(tuple_extractor, tmp) )"
   ]
  },
  {
   "cell_type": "code",
   "execution_count": 276,
   "metadata": {},
   "outputs": [],
   "source": [
    "# This works\n",
    "\n",
    "def slicedist_info(l):\n",
    "    key = [k for k,v in itertools.groupby(sorted(l), key=lambda x:(x[0], x[1], x[2]))]\n",
    "    tmp = [list(v) for k,v in itertools.groupby(sorted(l), key=lambda x:(x[0], x[1], x[2]))]\n",
    "    val_list = list( map(tuple_extractor, tmp) )\n",
    "    key_val = zip(key, val_list)\n",
    "    slice_bool = [slice_analyzer(i[1]) for i in key_val]\n",
    "    return zip(key, val_list, slice_bool)"
   ]
  },
  {
   "cell_type": "code",
   "execution_count": 277,
   "metadata": {},
   "outputs": [],
   "source": [
    "test = [('sami', 'blue', 'a', 3), ('sami', 'blue', 'a', 50), ('bob', 'blue', 'a', 10), ('bob', 'blue', 'a', 10), ('bob', 'blue', 'a', 9), ('sami', 'blue', 'a', 1)]\n",
    "\n",
    "t = list( slicedist_info(test) )"
   ]
  },
  {
   "cell_type": "code",
   "execution_count": 278,
   "metadata": {},
   "outputs": [
    {
     "data": {
      "text/plain": [
       "[(('bob', 'blue', 'a'), [9, 10, 10], True),\n",
       " (('sami', 'blue', 'a'), [1, 3, 50], True)]"
      ]
     },
     "execution_count": 278,
     "metadata": {},
     "output_type": "execute_result"
    }
   ],
   "source": []
  },
  {
   "cell_type": "code",
   "execution_count": 187,
   "metadata": {},
   "outputs": [
    {
     "data": {
      "text/plain": [
       "[True, True]"
      ]
     },
     "execution_count": 187,
     "metadata": {},
     "output_type": "execute_result"
    }
   ],
   "source": [
    "[slice_analyzer(i[1]) for i in t]"
   ]
  },
  {
   "cell_type": "code",
   "execution_count": 183,
   "metadata": {},
   "outputs": [],
   "source": [
    "z = (('bob', 'blue', 'a'), [9, 10, 10])"
   ]
  },
  {
   "cell_type": "code",
   "execution_count": 185,
   "metadata": {},
   "outputs": [
    {
     "data": {
      "text/plain": [
       "[9, 10, 10]"
      ]
     },
     "execution_count": 185,
     "metadata": {},
     "output_type": "execute_result"
    }
   ],
   "source": [
    "z[1]"
   ]
  },
  {
   "cell_type": "code",
   "execution_count": 302,
   "metadata": {},
   "outputs": [],
   "source": [
    "# inspired by https://www.geeksforgeeks.org/python-generate-successive-element-difference-list/\n",
    "\n",
    "def slice_analyzer(slice_list):\n",
    "    # sort from biggest to smallest\n",
    "    l_sort = sorted(slice_list, reverse=True)\n",
    "    # calculate dist b/w 0th and 1st element of sorted list\n",
    "    initial_delta = l_sort[0] - l_sort[1]\n",
    "    # calc diff b/w i-th and i+1-th element\n",
    "    tmp = list(map(operator.sub, l_sort[1:], l_sort[:-1]))\n",
    "    # calc diff b/w above and the i+1th and i+2th-element\n",
    "    eval_list = [abs(i) for i in list(map(operator.sub, tmp[1:], tmp[:-1])) ]\n",
    "    #boolean to make sure all deltas are less than delta b/w 0th and 1st elements\n",
    "    check_bool = all(x < initial_delta for x in eval_list)\n",
    "    return check_bool"
   ]
  },
  {
   "cell_type": "markdown",
   "metadata": {},
   "source": [
    "## Putting it all together"
   ]
  },
  {
   "cell_type": "code",
   "execution_count": 440,
   "metadata": {},
   "outputs": [],
   "source": [
    "# Alternative to `slice_analyzer`\n",
    "def slice_loc_delta(ds_list):\n",
    "    ds_sort = sorted(ds_list, reverse=True)\n",
    "    res = True\n",
    "    for i in range(0, len(ds_sort) - 2):\n",
    "        if not abs(\n",
    "            (ds_sort[i] - ds_sort[i + 1]) - (ds_sort[i + 1] - ds_sort[i + 2])\n",
    "        ) < (ds_sort[0] - ds_sort[1]):\n",
    "            res = False\n",
    "    return res\n",
    "\n",
    "def slice_analyzer(slice_list):\n",
    "    \"\"\"\n",
    "    # inspired by https://www.geeksforgeeks.org/python-generate-successive-element-difference-list/\n",
    "    \"\"\"\n",
    "    # sort from biggest to smallest\n",
    "    l_sort = sorted(slice_list, reverse=True)\n",
    "    # calculate dist b/w 0th and 1st element of sorted list\n",
    "    initial_delta = l_sort[0] - l_sort[1]\n",
    "    # calc diff b/w i-th and i+1-th element\n",
    "    tmp = list(map(operator.sub, l_sort[1:], l_sort[:-1]))\n",
    "    # calc diff b/w above and the i+1th and i+2th-element\n",
    "    eval_list = [abs(i) for i in list(map(operator.sub, tmp[1:], tmp[:-1])) ]\n",
    "    #boolean to make sure all deltas are less than delta b/w 0th and 1st elements\n",
    "    check_bool = all(x < initial_delta for x in eval_list)\n",
    "    return check_bool\n",
    "\n",
    "def tuple_extractor(tuple_list):\n",
    "    l = [(i4) for i1, i2, i3, i4 in tuple_list]\n",
    "    return l\n",
    "\n",
    "def slicedist_check(l):  #note elsewhere this is called `slicedist_info`\n",
    "    key = [k for k,v in itertools.groupby(sorted(l), key=lambda x:(x[0], x[1], x[2]))]\n",
    "    tmp = [list(v) for k,v in itertools.groupby(sorted(l), key=lambda x:(x[0], x[1], x[2]))]\n",
    "    val_list = list( map(tuple_extractor, tmp) )\n",
    "    key_val = zip(key, val_list)\n",
    "    slice_bool = [slice_loc_delta(i[1]) for i in key_val]    # can replace slice_analyzer with slice_loc_delta\n",
    "\n",
    "    df = pd.DataFrame( zip( key, slice_bool ), columns=['key', 'distance_check'] )\n",
    "    df['subject'], df['session'], df['inst'] = zip(*df['key'])\n",
    "    return df[['subject', 'session', 'inst', 'distance_check']]"
   ]
  },
  {
   "cell_type": "code",
   "execution_count": 441,
   "metadata": {},
   "outputs": [],
   "source": [
    "key = [('bob', 'blue', 'a'), ('sami', 'blue', 'a')]\n",
    "slice_bool = [False, True]"
   ]
  },
  {
   "cell_type": "code",
   "execution_count": 442,
   "metadata": {},
   "outputs": [
    {
     "data": {
      "text/html": [
       "<div>\n",
       "<style scoped>\n",
       "    .dataframe tbody tr th:only-of-type {\n",
       "        vertical-align: middle;\n",
       "    }\n",
       "\n",
       "    .dataframe tbody tr th {\n",
       "        vertical-align: top;\n",
       "    }\n",
       "\n",
       "    .dataframe thead th {\n",
       "        text-align: right;\n",
       "    }\n",
       "</style>\n",
       "<table border=\"1\" class=\"dataframe\">\n",
       "  <thead>\n",
       "    <tr style=\"text-align: right;\">\n",
       "      <th></th>\n",
       "      <th>0</th>\n",
       "      <th>1</th>\n",
       "    </tr>\n",
       "  </thead>\n",
       "  <tbody>\n",
       "    <tr>\n",
       "      <th>0</th>\n",
       "      <td>(bob, blue, a)</td>\n",
       "      <td>False</td>\n",
       "    </tr>\n",
       "    <tr>\n",
       "      <th>1</th>\n",
       "      <td>(sami, blue, a)</td>\n",
       "      <td>True</td>\n",
       "    </tr>\n",
       "  </tbody>\n",
       "</table>\n",
       "</div>"
      ],
      "text/plain": [
       "                 0      1\n",
       "0   (bob, blue, a)  False\n",
       "1  (sami, blue, a)   True"
      ]
     },
     "execution_count": 442,
     "metadata": {},
     "output_type": "execute_result"
    }
   ],
   "source": [
    "pd.DataFrame( zip( key, slice_bool ) )"
   ]
  },
  {
   "cell_type": "code",
   "execution_count": 443,
   "metadata": {},
   "outputs": [
    {
     "data": {
      "text/html": [
       "<div>\n",
       "<style scoped>\n",
       "    .dataframe tbody tr th:only-of-type {\n",
       "        vertical-align: middle;\n",
       "    }\n",
       "\n",
       "    .dataframe tbody tr th {\n",
       "        vertical-align: top;\n",
       "    }\n",
       "\n",
       "    .dataframe thead th {\n",
       "        text-align: right;\n",
       "    }\n",
       "</style>\n",
       "<table border=\"1\" class=\"dataframe\">\n",
       "  <thead>\n",
       "    <tr style=\"text-align: right;\">\n",
       "      <th></th>\n",
       "      <th>subject</th>\n",
       "      <th>session</th>\n",
       "      <th>inst</th>\n",
       "      <th>distance_check</th>\n",
       "    </tr>\n",
       "  </thead>\n",
       "  <tbody>\n",
       "    <tr>\n",
       "      <th>0</th>\n",
       "      <td>bob</td>\n",
       "      <td>blue</td>\n",
       "      <td>a</td>\n",
       "      <td>False</td>\n",
       "    </tr>\n",
       "    <tr>\n",
       "      <th>1</th>\n",
       "      <td>sami</td>\n",
       "      <td>blue</td>\n",
       "      <td>a</td>\n",
       "      <td>True</td>\n",
       "    </tr>\n",
       "  </tbody>\n",
       "</table>\n",
       "</div>"
      ],
      "text/plain": [
       "  subject session inst  distance_check\n",
       "0     bob    blue    a           False\n",
       "1    sami    blue    a            True"
      ]
     },
     "execution_count": 443,
     "metadata": {},
     "output_type": "execute_result"
    }
   ],
   "source": [
    "slicedist_info(test)"
   ]
  },
  {
   "cell_type": "code",
   "execution_count": 418,
   "metadata": {},
   "outputs": [
    {
     "data": {
      "text/html": [
       "<div>\n",
       "<style scoped>\n",
       "    .dataframe tbody tr th:only-of-type {\n",
       "        vertical-align: middle;\n",
       "    }\n",
       "\n",
       "    .dataframe tbody tr th {\n",
       "        vertical-align: top;\n",
       "    }\n",
       "\n",
       "    .dataframe thead th {\n",
       "        text-align: right;\n",
       "    }\n",
       "</style>\n",
       "<table border=\"1\" class=\"dataframe\">\n",
       "  <thead>\n",
       "    <tr style=\"text-align: right;\">\n",
       "      <th></th>\n",
       "      <th>subject</th>\n",
       "      <th>session</th>\n",
       "      <th>inst</th>\n",
       "      <th>distance_check</th>\n",
       "    </tr>\n",
       "  </thead>\n",
       "  <tbody>\n",
       "    <tr>\n",
       "      <th>0</th>\n",
       "      <td>bob</td>\n",
       "      <td>blue</td>\n",
       "      <td>a</td>\n",
       "      <td>False</td>\n",
       "    </tr>\n",
       "    <tr>\n",
       "      <th>1</th>\n",
       "      <td>sami</td>\n",
       "      <td>blue</td>\n",
       "      <td>a</td>\n",
       "      <td>True</td>\n",
       "    </tr>\n",
       "  </tbody>\n",
       "</table>\n",
       "</div>"
      ],
      "text/plain": [
       "  subject session inst  distance_check\n",
       "0     bob    blue    a           False\n",
       "1    sami    blue    a            True"
      ]
     },
     "execution_count": 418,
     "metadata": {},
     "output_type": "execute_result"
    }
   ],
   "source": [
    "test = [('sami', 'blue', 'a', 3), ('sami', 'blue', 'a', 50), ('bob', 'blue', 'a', 10), ('bob', 'blue', 'a', 10), ('bob', 'blue', 'a', 9), ('sami', 'blue', 'a', 1)]\n",
    "\n",
    "df = pd.DataFrame( list( slicedist_info(test) ), columns=['key', 'distance_check'])\n",
    "df['subject'], df['session'], df['inst'] = zip(*df['key'])\n",
    "df[['subject', 'session', 'inst', 'distance_check']]"
   ]
  },
  {
   "cell_type": "code",
   "execution_count": 350,
   "metadata": {},
   "outputs": [],
   "source": [
    "# Alternative to `slice_analyzer`\n",
    "def slice_loc_delta(ds_list):\n",
    "    ds_sort = sorted(ds_list, reverse=True)\n",
    "    res = True\n",
    "    for i in range(0, len(ds_sort) - 2):\n",
    "        if not abs(\n",
    "            (ds_sort[i] - ds_sort[i + 1]) - (ds_sort[i + 1] - ds_sort[i + 2])\n",
    "        ) < (ds_sort[0] - ds_sort[1]):\n",
    "            res = False\n",
    "    return res\n",
    "\n",
    "def slice_analyzer(slice_list):\n",
    "    \"\"\"\n",
    "    # inspired by https://www.geeksforgeeks.org/python-generate-successive-element-difference-list/\n",
    "    \"\"\"\n",
    "    # sort from biggest to smallest\n",
    "    l_sort = sorted(slice_list, reverse=True)\n",
    "    # calculate dist b/w 0th and 1st element of sorted list\n",
    "    initial_delta = l_sort[0] - l_sort[1]\n",
    "    # calc diff b/w i-th and i+1-th element\n",
    "    tmp = list(map(operator.sub, l_sort[1:], l_sort[:-1]))\n",
    "    # calc diff b/w above and the i+1th and i+2th-element\n",
    "    eval_list = [abs(i) for i in list(map(operator.sub, tmp[1:], tmp[:-1])) ]\n",
    "    #boolean to make sure all deltas are less than delta b/w 0th and 1st elements\n",
    "    check_bool = all(x < initial_delta for x in eval_list)\n",
    "    return int(check_bool)\n",
    "\n",
    "def tuple_extractor(tuple_list):\n",
    "    l = [(i4) for i1, i2, i3, i4 in tuple_list]\n",
    "    return l\n",
    "\n",
    "def slicedist_info(l):\n",
    "    key = [k for k,v in itertools.groupby(sorted(l), key=lambda x:(x[0], x[1], x[2]))]\n",
    "    tmp = [list(v) for k,v in itertools.groupby(sorted(l), key=lambda x:(x[0], x[1], x[2]))]\n",
    "    val_list = list( map(tuple_extractor, tmp) )\n",
    "    key_val = zip(key, val_list)\n",
    "    slice_bool = [slice_analyzer(i[1]) for i in key_val]    # can replace slice_analyzer with slice_loc_delta\n",
    "    return zip(key, slice_bool)"
   ]
  },
  {
   "cell_type": "code",
   "execution_count": 355,
   "metadata": {},
   "outputs": [
    {
     "ename": "AssertionError",
     "evalue": "",
     "output_type": "error",
     "traceback": [
      "\u001b[0;31m---------------------------------------------------------------------------\u001b[0m",
      "\u001b[0;31mAssertionError\u001b[0m                            Traceback (most recent call last)",
      "\u001b[0;32m<ipython-input-355-024e9c698e9f>\u001b[0m in \u001b[0;36m<module>\u001b[0;34m\u001b[0m\n\u001b[1;32m      1\u001b[0m \u001b[0mtest\u001b[0m \u001b[0;34m=\u001b[0m \u001b[0;34m[\u001b[0m\u001b[0;34m(\u001b[0m\u001b[0;34m'sami'\u001b[0m\u001b[0;34m,\u001b[0m \u001b[0;34m'blue'\u001b[0m\u001b[0;34m,\u001b[0m \u001b[0;34m'a'\u001b[0m\u001b[0;34m,\u001b[0m \u001b[0;36m3\u001b[0m\u001b[0;34m)\u001b[0m\u001b[0;34m,\u001b[0m \u001b[0;34m(\u001b[0m\u001b[0;34m'sami'\u001b[0m\u001b[0;34m,\u001b[0m \u001b[0;34m'blue'\u001b[0m\u001b[0;34m,\u001b[0m \u001b[0;34m'a'\u001b[0m\u001b[0;34m,\u001b[0m \u001b[0;36m50\u001b[0m\u001b[0;34m)\u001b[0m\u001b[0;34m,\u001b[0m \u001b[0;34m(\u001b[0m\u001b[0;34m'bob'\u001b[0m\u001b[0;34m,\u001b[0m \u001b[0;34m'blue'\u001b[0m\u001b[0;34m,\u001b[0m \u001b[0;34m'a'\u001b[0m\u001b[0;34m,\u001b[0m \u001b[0;36m10\u001b[0m\u001b[0;34m)\u001b[0m\u001b[0;34m,\u001b[0m \u001b[0;34m(\u001b[0m\u001b[0;34m'bob'\u001b[0m\u001b[0;34m,\u001b[0m \u001b[0;34m'blue'\u001b[0m\u001b[0;34m,\u001b[0m \u001b[0;34m'a'\u001b[0m\u001b[0;34m,\u001b[0m \u001b[0;36m10\u001b[0m\u001b[0;34m)\u001b[0m\u001b[0;34m,\u001b[0m \u001b[0;34m(\u001b[0m\u001b[0;34m'bob'\u001b[0m\u001b[0;34m,\u001b[0m \u001b[0;34m'blue'\u001b[0m\u001b[0;34m,\u001b[0m \u001b[0;34m'a'\u001b[0m\u001b[0;34m,\u001b[0m \u001b[0;36m9\u001b[0m\u001b[0;34m)\u001b[0m\u001b[0;34m,\u001b[0m \u001b[0;34m(\u001b[0m\u001b[0;34m'sami'\u001b[0m\u001b[0;34m,\u001b[0m \u001b[0;34m'blue'\u001b[0m\u001b[0;34m,\u001b[0m \u001b[0;34m'a'\u001b[0m\u001b[0;34m,\u001b[0m \u001b[0;36m1\u001b[0m\u001b[0;34m)\u001b[0m\u001b[0;34m]\u001b[0m\u001b[0;34m\u001b[0m\u001b[0;34m\u001b[0m\u001b[0m\n\u001b[1;32m      2\u001b[0m \u001b[0;34m\u001b[0m\u001b[0m\n\u001b[0;32m----> 3\u001b[0;31m \u001b[0;32massert\u001b[0m \u001b[0mlist\u001b[0m\u001b[0;34m(\u001b[0m \u001b[0mslicedist_info\u001b[0m\u001b[0;34m(\u001b[0m\u001b[0mtest\u001b[0m\u001b[0;34m)\u001b[0m \u001b[0;34m)\u001b[0m \u001b[0;34m==\u001b[0m \u001b[0;34m[\u001b[0m\u001b[0;34m(\u001b[0m\u001b[0;34m(\u001b[0m\u001b[0;34m'bob'\u001b[0m\u001b[0;34m,\u001b[0m \u001b[0;34m'blue'\u001b[0m\u001b[0;34m,\u001b[0m \u001b[0;34m'a'\u001b[0m\u001b[0;34m)\u001b[0m\u001b[0;34m,\u001b[0m \u001b[0;32mFalse\u001b[0m\u001b[0;34m)\u001b[0m\u001b[0;34m,\u001b[0m \u001b[0;34m(\u001b[0m\u001b[0;34m(\u001b[0m\u001b[0;34m'sami'\u001b[0m\u001b[0;34m,\u001b[0m \u001b[0;34m'blue'\u001b[0m\u001b[0;34m,\u001b[0m \u001b[0;34m'a'\u001b[0m\u001b[0;34m)\u001b[0m\u001b[0;34m,\u001b[0m \u001b[0;32mTrue\u001b[0m\u001b[0;34m)\u001b[0m\u001b[0;34m]\u001b[0m\u001b[0;34m\u001b[0m\u001b[0;34m\u001b[0m\u001b[0m\n\u001b[0m",
      "\u001b[0;31mAssertionError\u001b[0m: "
     ]
    }
   ],
   "source": [
    "test = [('sami', 'blue', 'a', 3), ('sami', 'blue', 'a', 50), ('bob', 'blue', 'a', 10), ('bob', 'blue', 'a', 10), ('bob', 'blue', 'a', 9), ('sami', 'blue', 'a', 1)]\n",
    "\n",
    "assert list( slicedist_info(test) ) == [(('bob', 'blue', 'a'), False), (('sami', 'blue', 'a'), True)]"
   ]
  },
  {
   "cell_type": "markdown",
   "metadata": {},
   "source": [
    "# Test statements"
   ]
  },
  {
   "cell_type": "code",
   "execution_count": 314,
   "metadata": {},
   "outputs": [
    {
     "name": "stdout",
     "output_type": "stream",
     "text": [
      "Result from unsorted test list: [2, 3, 5].\n",
      "Result from unsorted test list: [0, 0, 1].\n"
     ]
    }
   ],
   "source": [
    "# Make sure slice_analyzer function works well\n",
    "\n",
    "\n",
    "def test_slice_analyzer(slice_list):\n",
    "    # unsorted example\n",
    "    l_sort = slice_list\n",
    "    initial_delta = l_sort[0] - l_sort[1]\n",
    "    tmp = list(map(operator.sub, l_sort[1:], l_sort[:-1]))\n",
    "    eval_list = [abs(i) for i in list(map(operator.sub, tmp[1:], tmp[:-1])) ]\n",
    "    #boolean to make sure all deltas are less than delta b/w 0th and 1st elements\n",
    "    check_bool = all(x < initial_delta for x in eval_list)\n",
    "    return eval_list\n",
    "\n",
    "test_list = [1, 4, 5, 3, 6] \n",
    "# diff b/w ith and i+1th element: 1 and 4 -> 3, 4 and 5 -> 1, etc. --->  [3, 1, -2, 3]\n",
    "# i+1th and i+2th element (absolute value): 3 and 1 -> -2, 1 and -2 -> 3, -2-3 = 5  ---> [-2,-3, 5]\n",
    "\n",
    "print(f\"Result from unsorted test list: {test_slice_analyzer(test_list)}.\" )\n",
    "\n",
    "assert test_slice_analyzer(test_list) == [2,3, 5]\n",
    "\n",
    "# For our purposes, we want a sorted list though so let's rewrite this test\n",
    "\n",
    "def test_slice_analyzer_sorted(slice_list):\n",
    "    # sort from biggest to smallest\n",
    "    l_sort = sorted(slice_list, reverse=True)\n",
    "    initial_delta = l_sort[0] - l_sort[1]\n",
    "    tmp = list(map(operator.sub, l_sort[1:], l_sort[:-1]))\n",
    "    eval_list = [abs(i) for i in list(map(operator.sub, tmp[1:], tmp[:-1])) ]\n",
    "    #boolean to make sure all deltas are less than delta b/w 0th and 1st elements\n",
    "    check_bool = all(x < initial_delta for x in eval_list)\n",
    "    return eval_list\n",
    "\n",
    "test_list = [1, 4, 5, 3, 6] \n",
    "# sorted list = [6,5,4,3,1]\n",
    "# diff b/w ith and i+1th element: 6 and 5 -> 1, 5 and 4 -> 1, etc. --->  [1,1,1,2]\n",
    "# i+1th and i+2th element (absolute value): 3 and 1 -> -2, 1 and -2 -> 3, -2-3 = 5  ---> [0, 0, 1]\n",
    "\n",
    "print(f\"Result from unsorted test list: {test_slice_analyzer_sorted(test_list)}.\" )\n",
    "\n",
    "assert test_slice_analyzer_sorted(test_list) == [0,0,1]"
   ]
  }
 ],
 "metadata": {
  "kernelspec": {
   "display_name": "mirQAt",
   "language": "python",
   "name": "mirqat"
  },
  "language_info": {
   "codemirror_mode": {
    "name": "ipython",
    "version": 3
   },
   "file_extension": ".py",
   "mimetype": "text/x-python",
   "name": "python",
   "nbconvert_exporter": "python",
   "pygments_lexer": "ipython3",
   "version": "3.8.3"
  }
 },
 "nbformat": 4,
 "nbformat_minor": 4
}
